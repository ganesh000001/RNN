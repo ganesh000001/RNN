{
 "cells": [
  {
   "cell_type": "code",
   "execution_count": 1,
   "metadata": {},
   "outputs": [],
   "source": [
    "import numpy as np\n",
    "import matplotlib.pyplot as plt\n",
    "import pandas as pd"
   ]
  },
  {
   "cell_type": "code",
   "execution_count": 3,
   "metadata": {},
   "outputs": [
    {
     "data": {
      "text/html": [
       "<div>\n",
       "<style scoped>\n",
       "    .dataframe tbody tr th:only-of-type {\n",
       "        vertical-align: middle;\n",
       "    }\n",
       "\n",
       "    .dataframe tbody tr th {\n",
       "        vertical-align: top;\n",
       "    }\n",
       "\n",
       "    .dataframe thead th {\n",
       "        text-align: right;\n",
       "    }\n",
       "</style>\n",
       "<table border=\"1\" class=\"dataframe\">\n",
       "  <thead>\n",
       "    <tr style=\"text-align: right;\">\n",
       "      <th></th>\n",
       "      <th>Date</th>\n",
       "      <th>Open</th>\n",
       "      <th>High</th>\n",
       "      <th>Low</th>\n",
       "      <th>Close</th>\n",
       "      <th>Adj Close</th>\n",
       "      <th>Volume</th>\n",
       "    </tr>\n",
       "  </thead>\n",
       "  <tbody>\n",
       "    <tr>\n",
       "      <th>0</th>\n",
       "      <td>2020-07-27</td>\n",
       "      <td>231.460007</td>\n",
       "      <td>234.949997</td>\n",
       "      <td>230.830002</td>\n",
       "      <td>233.500000</td>\n",
       "      <td>233.500000</td>\n",
       "      <td>13163100</td>\n",
       "    </tr>\n",
       "    <tr>\n",
       "      <th>1</th>\n",
       "      <td>2020-07-28</td>\n",
       "      <td>234.630005</td>\n",
       "      <td>234.960007</td>\n",
       "      <td>229.830002</td>\n",
       "      <td>230.119995</td>\n",
       "      <td>230.119995</td>\n",
       "      <td>14170100</td>\n",
       "    </tr>\n",
       "    <tr>\n",
       "      <th>2</th>\n",
       "      <td>2020-07-29</td>\n",
       "      <td>231.139999</td>\n",
       "      <td>233.699997</td>\n",
       "      <td>230.309998</td>\n",
       "      <td>233.289993</td>\n",
       "      <td>233.289993</td>\n",
       "      <td>13588300</td>\n",
       "    </tr>\n",
       "    <tr>\n",
       "      <th>3</th>\n",
       "      <td>2020-07-30</td>\n",
       "      <td>230.220001</td>\n",
       "      <td>234.889999</td>\n",
       "      <td>229.000000</td>\n",
       "      <td>234.500000</td>\n",
       "      <td>234.500000</td>\n",
       "      <td>20615300</td>\n",
       "    </tr>\n",
       "    <tr>\n",
       "      <th>4</th>\n",
       "      <td>2020-07-31</td>\n",
       "      <td>255.820007</td>\n",
       "      <td>255.850006</td>\n",
       "      <td>249.000000</td>\n",
       "      <td>253.669998</td>\n",
       "      <td>253.669998</td>\n",
       "      <td>53005100</td>\n",
       "    </tr>\n",
       "  </tbody>\n",
       "</table>\n",
       "</div>"
      ],
      "text/plain": [
       "         Date        Open        High         Low       Close   Adj Close  \\\n",
       "0  2020-07-27  231.460007  234.949997  230.830002  233.500000  233.500000   \n",
       "1  2020-07-28  234.630005  234.960007  229.830002  230.119995  230.119995   \n",
       "2  2020-07-29  231.139999  233.699997  230.309998  233.289993  233.289993   \n",
       "3  2020-07-30  230.220001  234.889999  229.000000  234.500000  234.500000   \n",
       "4  2020-07-31  255.820007  255.850006  249.000000  253.669998  253.669998   \n",
       "\n",
       "     Volume  \n",
       "0  13163100  \n",
       "1  14170100  \n",
       "2  13588300  \n",
       "3  20615300  \n",
       "4  53005100  "
      ]
     },
     "execution_count": 3,
     "metadata": {},
     "output_type": "execute_result"
    }
   ],
   "source": [
    "dataset_train = pd.read_csv('F:/Social Prachar/FB.csv')\n",
    "dataset_train.head()"
   ]
  },
  {
   "cell_type": "code",
   "execution_count": 4,
   "metadata": {},
   "outputs": [
    {
     "data": {
      "text/plain": [
       "(251, 1)"
      ]
     },
     "execution_count": 4,
     "metadata": {},
     "output_type": "execute_result"
    }
   ],
   "source": [
    "training_set = dataset_train.iloc[:, 1:2].values\n",
    "training_set.shape"
   ]
  },
  {
   "cell_type": "code",
   "execution_count": 5,
   "metadata": {},
   "outputs": [],
   "source": [
    "from sklearn.preprocessing import MinMaxScaler\n",
    "sc = MinMaxScaler(feature_range = (0, 1))\n",
    "training_set_scaled = sc.fit_transform(training_set)"
   ]
  },
  {
   "cell_type": "code",
   "execution_count": 6,
   "metadata": {},
   "outputs": [
    {
     "data": {
      "text/plain": [
       "array([[0.00948815],\n",
       "       [0.033744  ],\n",
       "       [0.00703954],\n",
       "       [0.        ],\n",
       "       [0.19588343],\n",
       "       [0.17162746],\n",
       "       [0.16328714],\n",
       "       [0.15280435],\n",
       "       [0.14400483],\n",
       "       [0.25908627],\n",
       "       [0.28938715],\n",
       "       [0.2293213 ],\n",
       "       [0.21998622],\n",
       "       [0.23972749],\n",
       "       [0.24554286],\n",
       "       [0.2469967 ],\n",
       "       [0.23513666],\n",
       "       [0.23850343],\n",
       "       [0.239345  ],\n",
       "       [0.2943607 ],\n",
       "       [0.31257177],\n",
       "       [0.32282502],\n",
       "       [0.41150813],\n",
       "       [0.53515955],\n",
       "       [0.49567677],\n",
       "       [0.48764259],\n",
       "       [0.49345771],\n",
       "       [0.52536539],\n",
       "       [0.50325187],\n",
       "       [0.43637614],\n",
       "       [0.31417857],\n",
       "       [0.3485346 ],\n",
       "       [0.34654532],\n",
       "       [0.30484349],\n",
       "       [0.31165361],\n",
       "       [0.30951114],\n",
       "       [0.28364838],\n",
       "       [0.21470654],\n",
       "       [0.2156247 ],\n",
       "       [0.13252729],\n",
       "       [0.17667761],\n",
       "       [0.19159839],\n",
       "       [0.12456958],\n",
       "       [0.14675945],\n",
       "       [0.2232764 ],\n",
       "       [0.21111023],\n",
       "       [0.2430179 ],\n",
       "       [0.26880407],\n",
       "       [0.23712594],\n",
       "       [0.24470128],\n",
       "       [0.24148747],\n",
       "       [0.22182255],\n",
       "       [0.22595454],\n",
       "       [0.26245304],\n",
       "       [0.30591484],\n",
       "       [0.36238415],\n",
       "       [0.36269028],\n",
       "       [0.28602039],\n",
       "       [0.284337  ],\n",
       "       [0.27018132],\n",
       "       [0.25128163],\n",
       "       [0.37753459],\n",
       "       [0.37990659],\n",
       "       [0.37171923],\n",
       "       [0.40508074],\n",
       "       [0.37141333],\n",
       "       [0.37164287],\n",
       "       [0.35450291],\n",
       "       [0.33881703],\n",
       "       [0.2630653 ],\n",
       "       [0.25204685],\n",
       "       [0.38855305],\n",
       "       [0.47195647],\n",
       "       [0.48764259],\n",
       "       [0.45642354],\n",
       "       [0.32810471],\n",
       "       [0.33093579],\n",
       "       [0.35932352],\n",
       "       [0.3634555 ],\n",
       "       [0.34302537],\n",
       "       [0.36314937],\n",
       "       [0.33896998],\n",
       "       [0.31218905],\n",
       "       [0.32397273],\n",
       "       [0.31119453],\n",
       "       [0.29283027],\n",
       "       [0.36666932],\n",
       "       [0.36093054],\n",
       "       [0.35052412],\n",
       "       [0.37447396],\n",
       "       [0.42191432],\n",
       "       [0.42872444],\n",
       "       [0.38319677],\n",
       "       [0.3747035 ],\n",
       "       [0.42688811],\n",
       "       [0.40890659],\n",
       "       [0.34677486],\n",
       "       [0.33904658],\n",
       "       [0.33017058],\n",
       "       [0.34134199],\n",
       "       [0.34080655],\n",
       "       [0.35848194],\n",
       "       [0.3485346 ],\n",
       "       [0.32718654],\n",
       "       [0.31586195],\n",
       "       [0.28058775],\n",
       "       [0.29581455],\n",
       "       [0.29474319],\n",
       "       [0.35756378],\n",
       "       [0.36521547],\n",
       "       [0.3196878 ],\n",
       "       [0.3409595 ],\n",
       "       [0.29130008],\n",
       "       [0.24317085],\n",
       "       [0.27301241],\n",
       "       [0.29145303],\n",
       "       [0.23154036],\n",
       "       [0.20208129],\n",
       "       [0.16321066],\n",
       "       [0.17736623],\n",
       "       [0.13528191],\n",
       "       [0.20414716],\n",
       "       [0.29619704],\n",
       "       [0.29872223],\n",
       "       [0.31976439],\n",
       "       [0.36666932],\n",
       "       [0.36666932],\n",
       "       [0.40026013],\n",
       "       [0.35932352],\n",
       "       [0.26842135],\n",
       "       [0.22419456],\n",
       "       [0.25847424],\n",
       "       [0.27086995],\n",
       "       [0.28150592],\n",
       "       [0.27989889],\n",
       "       [0.29481979],\n",
       "       [0.27714439],\n",
       "       [0.32313115],\n",
       "       [0.31884622],\n",
       "       [0.3083632 ],\n",
       "       [0.31050567],\n",
       "       [0.31387243],\n",
       "       [0.30109423],\n",
       "       [0.30331305],\n",
       "       [0.21218158],\n",
       "       [0.22404161],\n",
       "       [0.24569581],\n",
       "       [0.24546627],\n",
       "       [0.20085699],\n",
       "       [0.2341419 ],\n",
       "       [0.27209425],\n",
       "       [0.23008652],\n",
       "       [0.20085699],\n",
       "       [0.23299419],\n",
       "       [0.27033427],\n",
       "       [0.23689641],\n",
       "       [0.29397822],\n",
       "       [0.28992259],\n",
       "       [0.29780406],\n",
       "       [0.29734475],\n",
       "       [0.35090661],\n",
       "       [0.34807551],\n",
       "       [0.37990659],\n",
       "       [0.39023643],\n",
       "       [0.46086165],\n",
       "       [0.48152109],\n",
       "       [0.46506999],\n",
       "       [0.3884001 ],\n",
       "       [0.36789338],\n",
       "       [0.42505155],\n",
       "       [0.45611741],\n",
       "       [0.45734171],\n",
       "       [0.52169249],\n",
       "       [0.54074537],\n",
       "       [0.6015762 ],\n",
       "       [0.58244696],\n",
       "       [0.64756296],\n",
       "       [0.62116452],\n",
       "       [0.61848638],\n",
       "       [0.62736237],\n",
       "       [0.58979253],\n",
       "       [0.58244696],\n",
       "       [0.59644969],\n",
       "       [0.57227031],\n",
       "       [0.54916204],\n",
       "       [0.54885614],\n",
       "       [0.5441119 ],\n",
       "       [0.52444722],\n",
       "       [0.55949188],\n",
       "       [0.56668449],\n",
       "       [0.5902516 ],\n",
       "       [0.76440425],\n",
       "       [0.73395066],\n",
       "       [0.7341802 ],\n",
       "       [0.68712209],\n",
       "       [0.67311959],\n",
       "       [0.64503777],\n",
       "       [0.70518021],\n",
       "       [0.64373711],\n",
       "       [0.53967402],\n",
       "       [0.5425817 ],\n",
       "       [0.58045745],\n",
       "       [0.60693248],\n",
       "       [0.63761562],\n",
       "       [0.65322514],\n",
       "       [0.56599586],\n",
       "       [0.63784516],\n",
       "       [0.68153651],\n",
       "       [0.67327254],\n",
       "       [0.74114304],\n",
       "       [0.75086084],\n",
       "       [0.7481827 ],\n",
       "       [0.77113778],\n",
       "       [0.7646338 ],\n",
       "       [0.76639377],\n",
       "       [0.73119593],\n",
       "       [0.73211409],\n",
       "       [0.75950729],\n",
       "       [0.81475253],\n",
       "       [0.80740674],\n",
       "       [0.76953099],\n",
       "       [0.78322736],\n",
       "       [0.77802426],\n",
       "       [0.81697136],\n",
       "       [0.81475253],\n",
       "       [0.76723534],\n",
       "       [0.79814826],\n",
       "       [0.7718264 ],\n",
       "       [0.78406916],\n",
       "       [0.83502948],\n",
       "       [0.85415871],\n",
       "       [0.85982089],\n",
       "       [0.85882613],\n",
       "       [0.96449602],\n",
       "       [0.93312426],\n",
       "       [0.89218764],\n",
       "       [0.95554367],\n",
       "       [0.966256  ],\n",
       "       [0.95676797],\n",
       "       [0.88384733],\n",
       "       [0.8807101 ],\n",
       "       [0.92593165],\n",
       "       [0.92799752],\n",
       "       [0.95141169],\n",
       "       [0.91062826],\n",
       "       [0.87757289],\n",
       "       [0.82140947],\n",
       "       [0.83082091],\n",
       "       [0.85148058],\n",
       "       [0.8911163 ],\n",
       "       [1.        ]])"
      ]
     },
     "execution_count": 6,
     "metadata": {},
     "output_type": "execute_result"
    }
   ],
   "source": [
    "training_set_scaled"
   ]
  },
  {
   "cell_type": "code",
   "execution_count": 17,
   "metadata": {},
   "outputs": [
    {
     "data": {
      "text/plain": [
       "(251, 1)"
      ]
     },
     "execution_count": 17,
     "metadata": {},
     "output_type": "execute_result"
    }
   ],
   "source": [
    "training_set_scaled.shape"
   ]
  },
  {
   "cell_type": "code",
   "execution_count": 18,
   "metadata": {},
   "outputs": [
    {
     "data": {
      "text/plain": [
       "(10,)"
      ]
     },
     "execution_count": 18,
     "metadata": {},
     "output_type": "execute_result"
    }
   ],
   "source": [
    "a=training_set_scaled[0:10,0]\n",
    "np.array(a).shape"
   ]
  },
  {
   "cell_type": "code",
   "execution_count": 19,
   "metadata": {},
   "outputs": [
    {
     "data": {
      "text/plain": [
       "0.28938715381313473"
      ]
     },
     "execution_count": 19,
     "metadata": {},
     "output_type": "execute_result"
    }
   ],
   "source": [
    "training_set_scaled[10,0]"
   ]
  },
  {
   "cell_type": "code",
   "execution_count": 20,
   "metadata": {},
   "outputs": [],
   "source": [
    "X_train = []\n",
    "y_train = []"
   ]
  },
  {
   "cell_type": "code",
   "execution_count": 21,
   "metadata": {},
   "outputs": [],
   "source": [
    "for i in range(10, 251):\n",
    "    X_train.append(training_set_scaled[i-10:i, 0])\n",
    "    y_train.append(training_set_scaled[i, 0])\n",
    "X_train, y_train = np.array(X_train), np.array(y_train)"
   ]
  },
  {
   "cell_type": "code",
   "execution_count": 22,
   "metadata": {},
   "outputs": [
    {
     "data": {
      "text/plain": [
       "(241, 10)"
      ]
     },
     "execution_count": 22,
     "metadata": {},
     "output_type": "execute_result"
    }
   ],
   "source": [
    "X_train.shape"
   ]
  },
  {
   "cell_type": "code",
   "execution_count": 23,
   "metadata": {},
   "outputs": [
    {
     "data": {
      "text/plain": [
       "(241,)"
      ]
     },
     "execution_count": 23,
     "metadata": {},
     "output_type": "execute_result"
    }
   ],
   "source": [
    "y_train.shape"
   ]
  },
  {
   "cell_type": "code",
   "execution_count": 24,
   "metadata": {},
   "outputs": [],
   "source": [
    "X_train = np.reshape(X_train, (X_train.shape[0], X_train.shape[1], 1))"
   ]
  },
  {
   "cell_type": "code",
   "execution_count": 25,
   "metadata": {},
   "outputs": [
    {
     "data": {
      "text/plain": [
       "(241, 10, 1)"
      ]
     },
     "execution_count": 25,
     "metadata": {},
     "output_type": "execute_result"
    }
   ],
   "source": [
    "X_train.shape"
   ]
  },
  {
   "cell_type": "code",
   "execution_count": 26,
   "metadata": {},
   "outputs": [],
   "source": [
    "import tensorflow\n",
    "from tensorflow.keras.models import Sequential\n",
    "from tensorflow.keras.layers import Dense\n",
    "from tensorflow.keras.layers import LSTM\n",
    "from tensorflow.keras.layers import Dropout"
   ]
  },
  {
   "cell_type": "code",
   "execution_count": 63,
   "metadata": {},
   "outputs": [],
   "source": [
    "# Initialising the RNN\n",
    "regressor = Sequential()\n",
    "\n",
    "# Adding the first LSTM layer and some Dropout regularisation\n",
    "regressor.add(LSTM(units = 10, return_sequences = True, input_shape = (X_train.shape[1], 1)))\n",
    "regressor.add(Dropout(0.2))\n",
    "\n",
    "# Adding a second LSTM layer and some Dropout regularisation\n",
    "regressor.add(LSTM(units = 10, return_sequences = True))\n",
    "regressor.add(Dropout(0.2))\n",
    "\n",
    "# Adding a third LSTM layer and some Dropout regularisation\n",
    "regressor.add(LSTM(units = 10, return_sequences = True))\n",
    "regressor.add(Dropout(0.2))\n",
    "\n",
    "# Adding a fourth LSTM layer and some Dropout regularisation\n",
    "regressor.add(LSTM(units = 10))\n",
    "regressor.add(Dropout(0.2))"
   ]
  },
  {
   "cell_type": "code",
   "execution_count": 99,
   "metadata": {},
   "outputs": [],
   "source": [
    "# Adding the output layer\n",
    "regressor.add(Dense(units = 1))\n",
    "\n",
    "# Compiling the RNN\n",
    "regressor.compile(optimizer = 'adam', loss = 'mean_squared_error',metrics=['accuracy'])"
   ]
  },
  {
   "cell_type": "code",
   "execution_count": 100,
   "metadata": {},
   "outputs": [
    {
     "name": "stdout",
     "output_type": "stream",
     "text": [
      "Epoch 1/100\n",
      "8/8 [==============================] - 6s 19ms/step - loss: 0.6862 - accuracy: 0.0000e+00\n",
      "Epoch 2/100\n",
      "8/8 [==============================] - 0s 18ms/step - loss: 0.4325 - accuracy: 0.0000e+00\n",
      "Epoch 3/100\n",
      "8/8 [==============================] - 0s 16ms/step - loss: 0.3069 - accuracy: 0.0000e+00\n",
      "Epoch 4/100\n",
      "8/8 [==============================] - 0s 16ms/step - loss: 0.2124 - accuracy: 0.0000e+00\n",
      "Epoch 5/100\n",
      "8/8 [==============================] - 0s 16ms/step - loss: 0.1382 - accuracy: 0.0000e+00\n",
      "Epoch 6/100\n",
      "8/8 [==============================] - 0s 17ms/step - loss: 0.0835 - accuracy: 0.0000e+00\n",
      "Epoch 7/100\n",
      "8/8 [==============================] - 0s 17ms/step - loss: 0.0663 - accuracy: 0.0041\n",
      "Epoch 8/100\n",
      "8/8 [==============================] - 0s 16ms/step - loss: 0.0691 - accuracy: 0.0000e+00\n",
      "Epoch 9/100\n",
      "8/8 [==============================] - 0s 16ms/step - loss: 0.0637 - accuracy: 0.0000e+00\n",
      "Epoch 10/100\n",
      "8/8 [==============================] - 0s 17ms/step - loss: 0.0627 - accuracy: 0.0000e+00\n",
      "Epoch 11/100\n",
      "8/8 [==============================] - 0s 17ms/step - loss: 0.0622 - accuracy: 0.0000e+00\n",
      "Epoch 12/100\n",
      "8/8 [==============================] - 0s 17ms/step - loss: 0.0566 - accuracy: 0.0000e+00\n",
      "Epoch 13/100\n",
      "8/8 [==============================] - 0s 17ms/step - loss: 0.0515 - accuracy: 0.0041\n",
      "Epoch 14/100\n",
      "8/8 [==============================] - 0s 17ms/step - loss: 0.0455 - accuracy: 0.0041\n",
      "Epoch 15/100\n",
      "8/8 [==============================] - 0s 17ms/step - loss: 0.0401 - accuracy: 0.0041\n",
      "Epoch 16/100\n",
      "8/8 [==============================] - 0s 17ms/step - loss: 0.0374 - accuracy: 0.0041\n",
      "Epoch 17/100\n",
      "8/8 [==============================] - 0s 16ms/step - loss: 0.0330 - accuracy: 0.0041\n",
      "Epoch 18/100\n",
      "8/8 [==============================] - 0s 16ms/step - loss: 0.0260 - accuracy: 0.0041\n",
      "Epoch 19/100\n",
      "8/8 [==============================] - 0s 16ms/step - loss: 0.0257 - accuracy: 0.0041\n",
      "Epoch 20/100\n",
      "8/8 [==============================] - 0s 17ms/step - loss: 0.0228 - accuracy: 0.0041\n",
      "Epoch 21/100\n",
      "8/8 [==============================] - 0s 16ms/step - loss: 0.0198 - accuracy: 0.0041\n",
      "Epoch 22/100\n",
      "8/8 [==============================] - 0s 17ms/step - loss: 0.0203 - accuracy: 0.0041\n",
      "Epoch 23/100\n",
      "8/8 [==============================] - 0s 17ms/step - loss: 0.0185 - accuracy: 0.0041\n",
      "Epoch 24/100\n",
      "8/8 [==============================] - 0s 17ms/step - loss: 0.0191 - accuracy: 0.0041\n",
      "Epoch 25/100\n",
      "8/8 [==============================] - 0s 17ms/step - loss: 0.0185 - accuracy: 0.0041\n",
      "Epoch 26/100\n",
      "8/8 [==============================] - 0s 17ms/step - loss: 0.0177 - accuracy: 0.0041\n",
      "Epoch 27/100\n",
      "8/8 [==============================] - 0s 16ms/step - loss: 0.0191 - accuracy: 0.0041\n",
      "Epoch 28/100\n",
      "8/8 [==============================] - 0s 17ms/step - loss: 0.0213 - accuracy: 0.0041\n",
      "Epoch 29/100\n",
      "8/8 [==============================] - 0s 17ms/step - loss: 0.0201 - accuracy: 0.0041\n",
      "Epoch 30/100\n",
      "8/8 [==============================] - 0s 16ms/step - loss: 0.0188 - accuracy: 0.0041\n",
      "Epoch 31/100\n",
      "8/8 [==============================] - 0s 16ms/step - loss: 0.0263 - accuracy: 0.0041\n",
      "Epoch 32/100\n",
      "8/8 [==============================] - 0s 17ms/step - loss: 0.0169 - accuracy: 0.0041\n",
      "Epoch 33/100\n",
      "8/8 [==============================] - 0s 17ms/step - loss: 0.0196 - accuracy: 0.0041\n",
      "Epoch 34/100\n",
      "8/8 [==============================] - 0s 17ms/step - loss: 0.0185 - accuracy: 0.0041\n",
      "Epoch 35/100\n",
      "8/8 [==============================] - 0s 16ms/step - loss: 0.0182 - accuracy: 0.0041\n",
      "Epoch 36/100\n",
      "8/8 [==============================] - 0s 17ms/step - loss: 0.0175 - accuracy: 0.0041\n",
      "Epoch 37/100\n",
      "8/8 [==============================] - 0s 17ms/step - loss: 0.0185 - accuracy: 0.0041\n",
      "Epoch 38/100\n",
      "8/8 [==============================] - 0s 16ms/step - loss: 0.0158 - accuracy: 0.0041\n",
      "Epoch 39/100\n",
      "8/8 [==============================] - 0s 16ms/step - loss: 0.0223 - accuracy: 0.0041\n",
      "Epoch 40/100\n",
      "8/8 [==============================] - 0s 17ms/step - loss: 0.0211 - accuracy: 0.0041\n",
      "Epoch 41/100\n",
      "8/8 [==============================] - 0s 16ms/step - loss: 0.0163 - accuracy: 0.0041\n",
      "Epoch 42/100\n",
      "8/8 [==============================] - 0s 17ms/step - loss: 0.0157 - accuracy: 0.0041\n",
      "Epoch 43/100\n",
      "8/8 [==============================] - 0s 17ms/step - loss: 0.0186 - accuracy: 0.0041\n",
      "Epoch 44/100\n",
      "8/8 [==============================] - 0s 16ms/step - loss: 0.0182 - accuracy: 0.0041\n",
      "Epoch 45/100\n",
      "8/8 [==============================] - 0s 18ms/step - loss: 0.0177 - accuracy: 0.0041 0s - loss: 0.0177 - accuracy: 0.00\n",
      "Epoch 46/100\n",
      "8/8 [==============================] - 0s 17ms/step - loss: 0.0177 - accuracy: 0.0041\n",
      "Epoch 47/100\n",
      "8/8 [==============================] - 0s 17ms/step - loss: 0.0179 - accuracy: 0.0041\n",
      "Epoch 48/100\n",
      "8/8 [==============================] - 0s 16ms/step - loss: 0.0170 - accuracy: 0.0041\n",
      "Epoch 49/100\n",
      "8/8 [==============================] - 0s 16ms/step - loss: 0.0179 - accuracy: 0.0041\n",
      "Epoch 50/100\n",
      "8/8 [==============================] - 0s 17ms/step - loss: 0.0184 - accuracy: 0.0041\n",
      "Epoch 51/100\n",
      "8/8 [==============================] - 0s 17ms/step - loss: 0.0179 - accuracy: 0.0041\n",
      "Epoch 52/100\n",
      "8/8 [==============================] - 0s 18ms/step - loss: 0.0175 - accuracy: 0.0041\n",
      "Epoch 53/100\n",
      "8/8 [==============================] - 0s 17ms/step - loss: 0.0156 - accuracy: 0.0041\n",
      "Epoch 54/100\n",
      "8/8 [==============================] - 0s 17ms/step - loss: 0.0177 - accuracy: 0.0041\n",
      "Epoch 55/100\n",
      "8/8 [==============================] - 0s 16ms/step - loss: 0.0166 - accuracy: 0.0041\n",
      "Epoch 56/100\n",
      "8/8 [==============================] - 0s 17ms/step - loss: 0.0170 - accuracy: 0.0041\n",
      "Epoch 57/100\n",
      "8/8 [==============================] - 0s 16ms/step - loss: 0.0161 - accuracy: 0.0041\n",
      "Epoch 58/100\n",
      "8/8 [==============================] - 0s 16ms/step - loss: 0.0155 - accuracy: 0.0041\n",
      "Epoch 59/100\n",
      "8/8 [==============================] - 0s 16ms/step - loss: 0.0150 - accuracy: 0.0041\n",
      "Epoch 60/100\n",
      "8/8 [==============================] - 0s 18ms/step - loss: 0.0158 - accuracy: 0.0041\n",
      "Epoch 61/100\n",
      "8/8 [==============================] - 0s 18ms/step - loss: 0.0161 - accuracy: 0.0041\n",
      "Epoch 62/100\n",
      "8/8 [==============================] - 0s 17ms/step - loss: 0.0149 - accuracy: 0.0041\n",
      "Epoch 63/100\n",
      "8/8 [==============================] - 0s 18ms/step - loss: 0.0161 - accuracy: 0.0041\n",
      "Epoch 64/100\n",
      "8/8 [==============================] - 0s 18ms/step - loss: 0.0164 - accuracy: 0.0041\n",
      "Epoch 65/100\n",
      "8/8 [==============================] - 0s 16ms/step - loss: 0.0138 - accuracy: 0.0041\n",
      "Epoch 66/100\n",
      "8/8 [==============================] - 0s 16ms/step - loss: 0.0153 - accuracy: 0.0041\n",
      "Epoch 67/100\n",
      "8/8 [==============================] - 0s 18ms/step - loss: 0.0172 - accuracy: 0.0041\n",
      "Epoch 68/100\n",
      "8/8 [==============================] - 0s 18ms/step - loss: 0.0149 - accuracy: 0.0041\n",
      "Epoch 69/100\n",
      "8/8 [==============================] - 0s 18ms/step - loss: 0.0136 - accuracy: 0.0041\n",
      "Epoch 70/100\n",
      "8/8 [==============================] - 0s 19ms/step - loss: 0.0126 - accuracy: 0.0041ETA: 0s - loss: 0.0127 - accuracy: 0.00\n",
      "Epoch 71/100\n",
      "8/8 [==============================] - 0s 16ms/step - loss: 0.0160 - accuracy: 0.0041\n",
      "Epoch 72/100\n",
      "8/8 [==============================] - 0s 16ms/step - loss: 0.0134 - accuracy: 0.0041\n",
      "Epoch 73/100\n",
      "8/8 [==============================] - 0s 17ms/step - loss: 0.0132 - accuracy: 0.0041\n",
      "Epoch 74/100\n",
      "8/8 [==============================] - 0s 18ms/step - loss: 0.0135 - accuracy: 0.0041\n",
      "Epoch 75/100\n",
      "8/8 [==============================] - 0s 16ms/step - loss: 0.0141 - accuracy: 0.0041\n",
      "Epoch 76/100\n",
      "8/8 [==============================] - 0s 16ms/step - loss: 0.0160 - accuracy: 0.0041\n",
      "Epoch 77/100\n",
      "8/8 [==============================] - 0s 16ms/step - loss: 0.0156 - accuracy: 0.0041\n",
      "Epoch 78/100\n",
      "8/8 [==============================] - 0s 17ms/step - loss: 0.0153 - accuracy: 0.0041\n",
      "Epoch 79/100\n",
      "8/8 [==============================] - 0s 17ms/step - loss: 0.0136 - accuracy: 0.0041\n",
      "Epoch 80/100\n",
      "8/8 [==============================] - 0s 18ms/step - loss: 0.0140 - accuracy: 0.0041\n",
      "Epoch 81/100\n",
      "8/8 [==============================] - 0s 18ms/step - loss: 0.0155 - accuracy: 0.0041\n",
      "Epoch 82/100\n"
     ]
    },
    {
     "name": "stdout",
     "output_type": "stream",
     "text": [
      "8/8 [==============================] - 0s 17ms/step - loss: 0.0144 - accuracy: 0.0041\n",
      "Epoch 83/100\n",
      "8/8 [==============================] - 0s 17ms/step - loss: 0.0164 - accuracy: 0.0041\n",
      "Epoch 84/100\n",
      "8/8 [==============================] - 0s 16ms/step - loss: 0.0141 - accuracy: 0.0041\n",
      "Epoch 85/100\n",
      "8/8 [==============================] - 0s 17ms/step - loss: 0.0156 - accuracy: 0.0041\n",
      "Epoch 86/100\n",
      "8/8 [==============================] - 0s 16ms/step - loss: 0.0132 - accuracy: 0.0041\n",
      "Epoch 87/100\n",
      "8/8 [==============================] - 0s 18ms/step - loss: 0.0150 - accuracy: 0.0041\n",
      "Epoch 88/100\n",
      "8/8 [==============================] - 0s 16ms/step - loss: 0.0119 - accuracy: 0.0041\n",
      "Epoch 89/100\n",
      "8/8 [==============================] - 0s 17ms/step - loss: 0.0149 - accuracy: 0.0041\n",
      "Epoch 90/100\n",
      "8/8 [==============================] - 0s 16ms/step - loss: 0.0142 - accuracy: 0.0041\n",
      "Epoch 91/100\n",
      "8/8 [==============================] - 0s 18ms/step - loss: 0.0154 - accuracy: 0.0041\n",
      "Epoch 92/100\n",
      "8/8 [==============================] - 0s 18ms/step - loss: 0.0141 - accuracy: 0.0041\n",
      "Epoch 93/100\n",
      "8/8 [==============================] - 0s 18ms/step - loss: 0.0148 - accuracy: 0.0041\n",
      "Epoch 94/100\n",
      "8/8 [==============================] - 0s 18ms/step - loss: 0.0143 - accuracy: 0.0041\n",
      "Epoch 95/100\n",
      "8/8 [==============================] - 0s 16ms/step - loss: 0.0142 - accuracy: 0.0041\n",
      "Epoch 96/100\n",
      "8/8 [==============================] - 0s 17ms/step - loss: 0.0149 - accuracy: 0.0041\n",
      "Epoch 97/100\n",
      "8/8 [==============================] - 0s 16ms/step - loss: 0.0139 - accuracy: 0.0041\n",
      "Epoch 98/100\n",
      "8/8 [==============================] - 0s 16ms/step - loss: 0.0164 - accuracy: 0.0041\n",
      "Epoch 99/100\n",
      "8/8 [==============================] - 0s 17ms/step - loss: 0.0132 - accuracy: 0.0041\n",
      "Epoch 100/100\n",
      "8/8 [==============================] - 0s 16ms/step - loss: 0.0132 - accuracy: 0.0041\n"
     ]
    },
    {
     "data": {
      "text/plain": [
       "<tensorflow.python.keras.callbacks.History at 0x2065de87880>"
      ]
     },
     "execution_count": 100,
     "metadata": {},
     "output_type": "execute_result"
    }
   ],
   "source": [
    "# Fitting the RNN to the Training set\n",
    "regressor.fit(X_train, y_train, epochs = 100, batch_size = 32)"
   ]
  },
  {
   "cell_type": "code",
   "execution_count": 102,
   "metadata": {},
   "outputs": [
    {
     "data": {
      "text/plain": [
       "(251, 1)"
      ]
     },
     "execution_count": 102,
     "metadata": {},
     "output_type": "execute_result"
    }
   ],
   "source": [
    "dataset_test = pd.read_csv('F:/Social Prachar/FB.csv')\n",
    "real_stock_price = dataset_test.iloc[:, 1:2].values\n",
    "\n",
    "real_stock_price.shape"
   ]
  },
  {
   "cell_type": "code",
   "execution_count": 103,
   "metadata": {},
   "outputs": [],
   "source": [
    "# Getting the predicted stock price of 2017\n",
    "dataset_total = pd.concat((dataset_train['Open'], dataset_test['Open']), axis = 0)\n",
    "inputs = dataset_total[len(dataset_total) - len(dataset_test) - 10:].values\n",
    "inputs = inputs.reshape(-1,1)\n",
    "inputs = sc.transform(inputs)"
   ]
  },
  {
   "cell_type": "code",
   "execution_count": 104,
   "metadata": {},
   "outputs": [
    {
     "data": {
      "text/plain": [
       "(261, 1)"
      ]
     },
     "execution_count": 104,
     "metadata": {},
     "output_type": "execute_result"
    }
   ],
   "source": [
    "inputs.shape"
   ]
  },
  {
   "cell_type": "code",
   "execution_count": 105,
   "metadata": {},
   "outputs": [],
   "source": [
    "X_test = []"
   ]
  },
  {
   "cell_type": "code",
   "execution_count": 106,
   "metadata": {},
   "outputs": [],
   "source": [
    "for i in range(10, 261):\n",
    "    X_test.append(inputs[i-10:i, 0])\n",
    "X_test = np.array(X_test)\n",
    "X_test = np.reshape(X_test, (X_test.shape[0], X_test.shape[1], 1))\n",
    "predicted_stock_price = regressor.predict(X_test)\n",
    "predicted_stock_price = sc.inverse_transform(predicted_stock_price)"
   ]
  },
  {
   "cell_type": "code",
   "execution_count": 107,
   "metadata": {},
   "outputs": [
    {
     "data": {
      "image/png": "[encoded data removed]",
      "text/plain": [
       "<Figure size 432x288 with 1 Axes>"
      ]
     },
     "metadata": {
      "needs_background": "light"
     },
     "output_type": "display_data"
    }
   ],
   "source": [
    "# Visualising the results\n",
    "plt.plot(real_stock_price, color = 'red', label = 'Real FB Stock Price')\n",
    "plt.plot(predicted_stock_price, color = 'blue', label = 'Predicted FB Stock Price')\n",
    "plt.title('FB Stock Price Prediction')\n",
    "plt.xlabel('Time')\n",
    "plt.ylabel('Google Stock Price')\n",
    "plt.legend()\n",
    "plt.show()"
   ]
  },
  {
   "cell_type": "code",
   "execution_count": 110,
   "metadata": {},
   "outputs": [
    {
     "data": {
      "text/plain": [
       "array([[353.44708],\n",
       "       [338.47983],\n",
       "       [321.37854],\n",
       "       [303.07684],\n",
       "       [286.41257],\n",
       "       [271.98267],\n",
       "       [260.12985],\n",
       "       [249.3854 ],\n",
       "       [239.53761],\n",
       "       [230.63109],\n",
       "       [222.76036],\n",
       "       [224.12703],\n",
       "       [225.51833],\n",
       "       [227.43567],\n",
       "       [229.78323],\n",
       "       [230.26558],\n",
       "       [231.21729],\n",
       "       [232.54126],\n",
       "       [234.33667],\n",
       "       [236.65517],\n",
       "       [237.92772],\n",
       "       [239.20732],\n",
       "       [241.63882],\n",
       "       [244.5446 ],\n",
       "       [247.45943],\n",
       "       [250.47914],\n",
       "       [253.57518],\n",
       "       [256.85428],\n",
       "       [259.972  ],\n",
       "       [262.84464],\n",
       "       [264.41583],\n",
       "       [265.23767],\n",
       "       [265.4117 ],\n",
       "       [263.52533],\n",
       "       [259.1814 ],\n",
       "       [255.4596 ],\n",
       "       [251.7936 ],\n",
       "       [247.99428],\n",
       "       [243.74234],\n",
       "       [239.93742]], dtype=float32)"
      ]
     },
     "execution_count": 110,
     "metadata": {},
     "output_type": "execute_result"
    }
   ],
   "source": [
    "# Getting the predicted stock price of 2017\n",
    "dataset_total = pd.concat((dataset_train['Open'], dataset_test['Open']), axis = 0)\n",
    "inputs = dataset_total[len(dataset_total) - len(dataset_test) - 10:].values\n",
    "inputs = inputs.reshape(-1,1)\n",
    "inputs = sc.transform(inputs)\n",
    "X_test = []\n",
    "for i in range(20, 60):\n",
    "    X_test.append(inputs[i-20:i, 0])\n",
    "X_test = np.array(X_test)\n",
    "X_test = np.reshape(X_test, (X_test.shape[0], X_test.shape[1], 1))\n",
    "predicted_stock_price = regressor.predict(X_test)\n",
    "predicted_stock_price = sc.inverse_transform(predicted_stock_price)\n",
    "predicted_stock_price\n"
   ]
  },
  {
   "cell_type": "code",
   "execution_count": null,
   "metadata": {},
   "outputs": [],
   "source": []
  }
 ],
 "metadata": {
  "kernelspec": {
   "display_name": "Python 3",
   "language": "python",
   "name": "python3"
  },
  "language_info": {
   "codemirror_mode": {
    "name": "ipython",
    "version": 3
   },
   "file_extension": ".py",
   "mimetype": "text/x-python",
   "name": "python",
   "nbconvert_exporter": "python",
   "pygments_lexer": "ipython3",
   "version": "3.8.5"
  }
 },
 "nbformat": 4,
 "nbformat_minor": 4
}
